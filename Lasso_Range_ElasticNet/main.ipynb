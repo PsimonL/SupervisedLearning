{
 "cells": [
  {
   "cell_type": "code",
   "execution_count": null,
   "metadata": {
    "collapsed": true,
    "pycharm": {
     "name": "#%%\n"
    }
   },
   "outputs": [],
   "source": [
    "import pandas as pd,numpy as np, matplotlib.pyplot as plt\n",
    "from sklearn.preprocessing import StandardScaler\n",
    "from sklearn.model_selection import train_test_split\n",
    "from sklearn.metrics import r2_score\n",
    "from sklearn.linear_model import Lasso\n",
    "from sklearn.linear_model import Ridge\n",
    "from sklearn.linear_model import ElasticNet"
   ]
  },
  {
   "cell_type": "code",
   "execution_count": null,
   "outputs": [],
   "source": [
    "df = pd.read_csv(r\"housing.data\", sep=\" +\", engine=\"python\", header=None, names=[\"CRIM\",\"ZN\",\"INDUS\",\"CHAS\",\"NOX\",\"RM\",\"AGE\",\"DIS\",\"RAD\",\"TAX\",\"PTRATIO\",\"B\",\"LSTAT\",\"MEDV\"])\n",
    "df"
   ],
   "metadata": {
    "collapsed": false,
    "pycharm": {
     "name": "#%%\n"
    }
   }
  },
  {
   "cell_type": "code",
   "execution_count": null,
   "outputs": [],
   "source": [
    "X = df.drop(\"MEDV\", axis=1)\n",
    "X"
   ],
   "metadata": {
    "collapsed": false,
    "pycharm": {
     "name": "#%%\n"
    }
   }
  },
  {
   "cell_type": "code",
   "execution_count": null,
   "outputs": [],
   "source": [
    "y = df[\"MEDV\"].values\n",
    "y"
   ],
   "metadata": {
    "collapsed": false,
    "pycharm": {
     "name": "#%%\n"
    }
   }
  },
  {
   "cell_type": "code",
   "execution_count": null,
   "outputs": [],
   "source": [
    "scaler = StandardScaler()\n",
    "scaler.fit(X)\n",
    "X = scaler.transform(X)\n",
    "X_train, X_test, y_train, y_test = train_test_split(X, y, test_size=0.3)"
   ],
   "metadata": {
    "collapsed": false,
    "pycharm": {
     "name": "#%%\n"
    }
   }
  },
  {
   "cell_type": "code",
   "execution_count": null,
   "outputs": [],
   "source": [
    "# https://www.geeksforgeeks.org/add-zero-columns-to-pandas-dataframe/\n",
    "lasso = pd.DataFrame({\"param_value\": np.arange(start=0, stop=10.1, step=0.1)})\n",
    "# lasso = pd.DataFrame({\"param_value\": np.arange(start=0, stop=10.1, step=0.1), \"r2_result\": 0, \"number_of_features\": 0.})\n",
    "lasso[\"r2_result\"] = 0.\n",
    "lasso[\"number_of_features\"] = 0\n",
    "# 0, 0.1, 0.2, 0.3, ..., 10.\n",
    "lasso"
   ],
   "metadata": {
    "collapsed": false,
    "pycharm": {
     "name": "#%%\n"
    }
   }
  },
  {
   "cell_type": "code",
   "execution_count": null,
   "outputs": [],
   "source": [
    "print()\n",
    "print(lasso.shape[0])"
   ],
   "metadata": {
    "collapsed": false,
    "pycharm": {
     "name": "#%%\n"
    }
   }
  },
  {
   "cell_type": "code",
   "execution_count": null,
   "outputs": [],
   "source": [
    "# for each in range(1, 6):\n",
    "for each in range(1, len(lasso)):\n",
    "    # print(lasso.at[each, \"param_value\"])\n",
    "    modelLasso = Lasso(alpha=lasso.at[each, \"param_value\"])\n",
    "    modelLasso.fit(X_train, y_train)\n",
    "    lasso.at[each, \"r2_result\"] = r2_score(y_test, modelLasso.predict(X_test))\n",
    "    lasso.at[each, \"number_of_features\"] = len(modelLasso.coef_[modelLasso.coef_ > 0])"
   ],
   "metadata": {
    "collapsed": false,
    "pycharm": {
     "name": "#%%\n"
    }
   }
  },
  {
   "cell_type": "code",
   "execution_count": null,
   "outputs": [],
   "source": [
    "# print(lasso.at[100, \"param_value\"])"
   ],
   "metadata": {
    "collapsed": false,
    "pycharm": {
     "name": "#%%\n"
    }
   }
  },
  {
   "cell_type": "code",
   "execution_count": null,
   "outputs": [],
   "source": [
    "lasso.drop(0, axis=0)"
   ],
   "metadata": {
    "collapsed": false,
    "pycharm": {
     "name": "#%%\n"
    }
   }
  },
  {
   "cell_type": "code",
   "execution_count": null,
   "outputs": [],
   "source": [
    "ridge = pd.DataFrame({\"param_value\": np.arange(start=0, stop=10.1, step=0.1)})\n",
    "ridge[\"r2_result\"] = 0.\n",
    "ridge[\"number_of_features\"] = 0\n",
    "ridge"
   ],
   "metadata": {
    "collapsed": false,
    "pycharm": {
     "name": "#%%\n"
    }
   }
  },
  {
   "cell_type": "code",
   "execution_count": null,
   "outputs": [],
   "source": [
    "for each in range(1, len(ridge)):\n",
    "    modelRidge = Ridge(alpha=ridge.at[each, \"param_value\"])\n",
    "    modelRidge.fit(X_train, y_train)\n",
    "    ridge.at[each, \"r2_result\"] = r2_score(y_test, modelRidge.predict(X_test))\n",
    "    ridge.at[each, \"number_of_features\"] = len(modelRidge.coef_[modelRidge.coef_ > 0])"
   ],
   "metadata": {
    "collapsed": false,
    "pycharm": {
     "name": "#%%\n"
    }
   }
  },
  {
   "cell_type": "code",
   "execution_count": null,
   "outputs": [],
   "source": [
    "ridge.drop(0, axis=0)"
   ],
   "metadata": {
    "collapsed": false,
    "pycharm": {
     "name": "#%%\n"
    }
   }
  },
  {
   "cell_type": "code",
   "execution_count": null,
   "outputs": [],
   "source": [
    "elasticNet = pd.DataFrame({\"param_value\": np.arange(start=0, stop=10.1, step=0.1)})\n",
    "elasticNet[\"r2_result\"] = 0.\n",
    "elasticNet[\"number_of_features\"] = 0\n",
    "elasticNet"
   ],
   "metadata": {
    "collapsed": false,
    "pycharm": {
     "name": "#%%\n"
    }
   }
  },
  {
   "cell_type": "code",
   "execution_count": null,
   "outputs": [],
   "source": [
    "for each in range(1, len(elasticNet)):\n",
    "    modelElasticNet = ElasticNet(alpha=elasticNet.at[each, \"param_value\"])\n",
    "    modelElasticNet.fit(X_train, y_train)\n",
    "    elasticNet.at[each, \"r2_result\"] = r2_score(y_test, modelElasticNet.predict(X_test))\n",
    "    elasticNet.at[each, \"number_of_features\"] = len(modelElasticNet.coef_[modelElasticNet.coef_ > 0])\n"
   ],
   "metadata": {
    "collapsed": false,
    "pycharm": {
     "name": "#%%\n"
    }
   }
  },
  {
   "cell_type": "code",
   "execution_count": null,
   "outputs": [],
   "source": [
    "elasticNet.drop(0, axis=0)"
   ],
   "metadata": {
    "collapsed": false,
    "pycharm": {
     "name": "#%%\n"
    }
   }
  },
  {
   "cell_type": "code",
   "execution_count": null,
   "outputs": [],
   "source": [
    "# X->strength of reguralisation, y->...\n",
    "fig, axs = plt.subplots(3, figsize=(10,10))\n",
    "axs[0].title.set_text(\"Lasso\")\n",
    "axs[0].scatter(x=lasso[\"param_value\"], y=lasso[\"r2_result\"]*10, color=\"red\")\n",
    "axs[0].scatter(x=lasso[\"param_value\"], y=lasso[\"number_of_features\"], color=\"blue\")\n",
    "# axs[0].legend(loc=\"center right\")\n",
    "axs[1].title.set_text(\"Ridge\")\n",
    "axs[1].scatter(x=ridge[\"param_value\"], y=ridge[\"r2_result\"]*10, color=\"red\")\n",
    "axs[1].scatter(x=ridge[\"param_value\"], y=ridge[\"number_of_features\"], color=\"blue\")\n",
    "# axs[1].legend(loc=\"center right\")\n",
    "axs[2].title.set_text(\"Elastic Net\")\n",
    "axs[2].scatter(x=elasticNet[\"param_value\"], y=elasticNet[\"r2_result\"]*10, color=\"red\")\n",
    "axs[2].scatter(x=elasticNet[\"param_value\"], y=elasticNet[\"number_of_features\"], color=\"blue\")\n",
    "# axs[2].legend(loc=\"center right\")"
   ],
   "metadata": {
    "collapsed": false,
    "pycharm": {
     "name": "#%%\n"
    }
   }
  },
  {
   "cell_type": "code",
   "execution_count": null,
   "outputs": [],
   "source": [],
   "metadata": {
    "collapsed": false,
    "pycharm": {
     "name": "#%%\n"
    }
   }
  }
 ],
 "metadata": {
  "kernelspec": {
   "display_name": "Python 3",
   "language": "python",
   "name": "python3"
  },
  "language_info": {
   "codemirror_mode": {
    "name": "ipython",
    "version": 2
   },
   "file_extension": ".py",
   "mimetype": "text/x-python",
   "name": "python",
   "nbconvert_exporter": "python",
   "pygments_lexer": "ipython2",
   "version": "2.7.6"
  }
 },
 "nbformat": 4,
 "nbformat_minor": 0
}
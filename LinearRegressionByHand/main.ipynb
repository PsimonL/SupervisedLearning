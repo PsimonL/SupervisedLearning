{
 "cells": [
  {
   "cell_type": "code",
   "execution_count": null,
   "metadata": {
    "collapsed": true,
    "pycharm": {
     "name": "#%%\n"
    }
   },
   "outputs": [],
   "source": [
    "import numpy as np, pandas as pd\n",
    "import matplotlib.pyplot as plt, seaborn as sns\n",
    "from sklearn.preprocessing import StandardScaler\n",
    "from sklearn.model_selection import train_test_split\n",
    "print(\"libs loaded\")"
   ]
  },
  {
   "cell_type": "code",
   "execution_count": null,
   "outputs": [],
   "source": [
    "data = pd.read_csv(r\"housing.data\", sep=' +', engine='python', header=None, names=['CRIM','ZN','INDUS','CHAS','NOX', 'RM','AGE','DIS', 'RAD','TAX','PTRATIO','B','LSTAT','MEDV'])\n",
    "data.head(10)"
   ],
   "metadata": {
    "collapsed": false,
    "pycharm": {
     "name": "#%%\n"
    }
   }
  },
  {
   "cell_type": "code",
   "execution_count": null,
   "outputs": [],
   "source": [
    "# Very similar in Adaline implementation in Deep Learning repository. Minor changes ONLY in method: predict(). Cause we return continuous values.\n",
    "class LinearRegression:\n",
    "    def __init__(self, eta=0.10, epochs=50, is_verbose=False):\n",
    "        self.eta = eta\n",
    "        self.epochs = epochs\n",
    "        self.is_verbose = is_verbose\n",
    "        self.list_of_errors = []\n",
    "\n",
    "    def get_activation(self, x):\n",
    "        activation = np.dot(x, self.w)\n",
    "        return activation\n",
    "\n",
    "    def predict(self, x):\n",
    "        ones = np.ones((x.shape[0],1))\n",
    "        x_1 = np.append(x.copy(), ones, axis=1)\n",
    "        return self.get_activation(x_1)\n",
    "\n",
    "    def fit(self, X, y):\n",
    "        self.list_of_errors = []\n",
    "        ones = np.ones((X.shape[0], 1))\n",
    "        X_1 = np.append(X.copy(), ones, axis=1)\n",
    "        self.w = np.random.rand(X_1.shape[1])\n",
    "        for e in range(self.epochs):\n",
    "            error = 0\n",
    "            activation = self.get_activation(X_1)\n",
    "            delta_w = self.eta * np.dot((y - activation), X_1)\n",
    "            self.w += delta_w\n",
    "            error = np.square(y - activation).sum()/2.0\n",
    "            self.list_of_errors.append(error)\n",
    "            if(self.is_verbose):\n",
    "                print(\"NO Epoch = %s, WHERE weights = %s, AND error = %s\" % (e, self.w, error))\n",
    "\n",
    "\n",
    "print(\"Linear Regression implementation loaded\")"
   ],
   "metadata": {
    "collapsed": false,
    "pycharm": {
     "name": "#%%\n"
    }
   }
  },
  {
   "cell_type": "code",
   "execution_count": null,
   "outputs": [],
   "source": [
    "X = data['LSTAT']\n",
    "X"
   ],
   "metadata": {
    "collapsed": false,
    "pycharm": {
     "name": "#%%\n"
    }
   }
  },
  {
   "cell_type": "code",
   "execution_count": null,
   "outputs": [],
   "source": [
    "X = data['LSTAT'].values.reshape(-1,1)\n",
    "X"
   ],
   "metadata": {
    "collapsed": false,
    "pycharm": {
     "name": "#%%\n"
    }
   }
  },
  {
   "cell_type": "code",
   "execution_count": null,
   "outputs": [],
   "source": [
    "y = data['MEDV'].values\n",
    "y"
   ],
   "metadata": {
    "collapsed": false,
    "pycharm": {
     "name": "#%%\n"
    }
   }
  },
  {
   "cell_type": "code",
   "execution_count": null,
   "outputs": [],
   "source": [
    "# StandardScaler - standardizes a feature by subtracting the mean and then scaling to unit variance\n",
    "scaler = StandardScaler()\n",
    "scaler.fit(X)\n",
    "X_standarised = scaler.transform(X)\n",
    "X_standarised"
   ],
   "metadata": {
    "collapsed": false,
    "pycharm": {
     "name": "#%%\n"
    }
   }
  },
  {
   "cell_type": "code",
   "execution_count": null,
   "outputs": [],
   "source": [
    "X_train, X_test, y_train, y_test = train_test_split(X_standarised, y, test_size=0.2)"
   ],
   "metadata": {
    "collapsed": false,
    "pycharm": {
     "name": "#%%\n"
    }
   }
  },
  {
   "cell_type": "code",
   "execution_count": null,
   "outputs": [],
   "source": [
    "linear_regression = LinearRegression(eta = 0.001, epochs=50)\n",
    "linear_regression.fit(X_train, y_train)"
   ],
   "metadata": {
    "collapsed": false,
    "pycharm": {
     "name": "#%%\n"
    }
   }
  },
  {
   "cell_type": "code",
   "execution_count": null,
   "outputs": [],
   "source": [
    "# x = [linear_regression.epochs]\n",
    "# print(x)\n",
    "# We aim for convergence\n",
    "plt.figure(figsize=(5, 5))\n",
    "plt.scatter(range(linear_regression.epochs), linear_regression.list_of_errors) # where 1st argument is natural number from 0 to 49 epochs (summarized is 50 - counter matters)"
   ],
   "metadata": {
    "collapsed": false,
    "pycharm": {
     "name": "#%%\n"
    }
   }
  },
  {
   "cell_type": "code",
   "execution_count": null,
   "outputs": [],
   "source": [
    "plt.figure(figsize=(8, 4))\n",
    "plt.scatter(X_train, y_train, color='black')\n",
    "plt.plot(X_train, linear_regression.predict(X_train), color='yellow')"
   ],
   "metadata": {
    "collapsed": false,
    "pycharm": {
     "name": "#%%\n"
    }
   }
  },
  {
   "cell_type": "code",
   "execution_count": null,
   "outputs": [],
   "source": [
    "plt.figure(figsize=(8, 4))\n",
    "plt.scatter(X_test, y_test)\n",
    "plt.plot(X_test, linear_regression.predict(X_test), color='red')"
   ],
   "metadata": {
    "collapsed": false,
    "pycharm": {
     "name": "#%%\n"
    }
   }
  },
  {
   "cell_type": "code",
   "execution_count": null,
   "outputs": [],
   "source": [
    "plt.figure(figsize=(8, 4))\n",
    "plt.scatter(y_train, linear_regression.predict(X_train), color='black')"
   ],
   "metadata": {
    "collapsed": false,
    "pycharm": {
     "name": "#%%\n"
    }
   }
  },
  {
   "cell_type": "code",
   "execution_count": null,
   "outputs": [],
   "source": [
    "plt.figure(figsize=(8, 4))\n",
    "plt.scatter(y_test, linear_regression.predict(X_test), color='black')"
   ],
   "metadata": {
    "collapsed": false,
    "pycharm": {
     "name": "#%%\n"
    }
   }
  },
  {
   "cell_type": "code",
   "execution_count": null,
   "outputs": [],
   "source": [],
   "metadata": {
    "collapsed": false,
    "pycharm": {
     "name": "#%%\n"
    }
   }
  },
  {
   "cell_type": "code",
   "execution_count": null,
   "outputs": [],
   "source": [],
   "metadata": {
    "collapsed": false,
    "pycharm": {
     "name": "#%%\n"
    }
   }
  },
  {
   "cell_type": "code",
   "execution_count": null,
   "outputs": [],
   "source": [],
   "metadata": {
    "collapsed": false,
    "pycharm": {
     "name": "#%%\n"
    }
   }
  }
 ],
 "metadata": {
  "kernelspec": {
   "display_name": "Python 3",
   "language": "python",
   "name": "python3"
  },
  "language_info": {
   "codemirror_mode": {
    "name": "ipython",
    "version": 2
   },
   "file_extension": ".py",
   "mimetype": "text/x-python",
   "name": "python",
   "nbconvert_exporter": "python",
   "pygments_lexer": "ipython2",
   "version": "2.7.6"
  }
 },
 "nbformat": 4,
 "nbformat_minor": 0
}
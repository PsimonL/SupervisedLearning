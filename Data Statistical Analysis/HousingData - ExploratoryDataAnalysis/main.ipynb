{
 "cells": [
  {
   "cell_type": "code",
   "execution_count": null,
   "metadata": {
    "collapsed": true,
    "pycharm": {
     "name": "#%%\n"
    }
   },
   "outputs": [],
   "source": [
    "import numpy as np\n",
    "import pandas as pd\n",
    "import matplotlib.pyplot as plt\n",
    "import seaborn as sns"
   ]
  },
  {
   "cell_type": "code",
   "execution_count": null,
   "outputs": [],
   "source": [
    "# Data source:\n",
    "# https://archive.ics.uci.edu/ml/machine-learning-databases/housing/\n",
    "df = pd.read_csv(r\"housing.data\", sep=' +', engine='python', header=None, names=['CRIM','ZN','INDUS','CHAS','NOX','RM','AGE','DIS', 'RAD','TAX','PTRATIO','B','LSTAT','MEDV'])\n",
    "df"
   ],
   "metadata": {
    "collapsed": false,
    "pycharm": {
     "name": "#%%\n"
    }
   }
  },
  {
   "cell_type": "code",
   "execution_count": null,
   "outputs": [],
   "source": [
    "df.head(10)"
   ],
   "metadata": {
    "collapsed": false,
    "pycharm": {
     "name": "#%%\n"
    }
   }
  },
  {
   "cell_type": "code",
   "execution_count": null,
   "outputs": [],
   "source": [
    "df.tail(10)"
   ],
   "metadata": {
    "collapsed": false,
    "pycharm": {
     "name": "#%%\n"
    }
   }
  },
  {
   "cell_type": "code",
   "execution_count": null,
   "outputs": [],
   "source": [
    "sns.boxplot(x=df['CHAS'], y=df['MEDV']) # https://mfiles.pl/pl/index.php/Wykres_pude%C5%82kowy\n",
    "# Boxplot depicts data distribution divided into quartiles with distinction about mean and most sticking out values, on the both ends of scale min-max.\n",
    "# Horizontal straight line inside box is median. Middle value in research sample.\n",
    "# Below median is 25 to 50 percentile\n",
    "# Above median is 50 to 75 percentile\n",
    "# Bottom border of boxplot quartile 1 - Q1\n",
    "# Upper border of boxplot quartile 3 - Q3\n",
    "# Whiskers indicates, gives us informations about outliers, values which do not fit into whole research trial.\n",
    "# Whiskers gives us also min and max value.\n",
    "# Dots above or below are mentioned outliers.\n",
    "# https://de.wikipedia.org/wiki/Box-Plot"
   ],
   "metadata": {
    "collapsed": false,
    "pycharm": {
     "name": "#%%\n"
    }
   }
  },
  {
   "cell_type": "code",
   "execution_count": null,
   "outputs": [],
   "source": [
    "sns.barplot(x=df['CHAS'], y=df['MEDV']) # we can see analogies with plots in the cell above\n",
    "# We get average value and also get calculation error (standard deviation???) with this thick vertical line."
   ],
   "metadata": {
    "collapsed": false,
    "pycharm": {
     "name": "#%%\n"
    }
   }
  },
  {
   "cell_type": "code",
   "execution_count": null,
   "outputs": [],
   "source": [
    "columns = ['CRIM','ZN','INDUS','CHAS','NOX','RM','AGE','DIS', 'RAD','TAX','PTRATIO','B','LSTAT','MEDV']\n",
    "corr_matrix = np.corrcoef(df.values.T)"
   ],
   "metadata": {
    "collapsed": false,
    "pycharm": {
     "name": "#%%\n"
    }
   }
  },
  {
   "cell_type": "code",
   "execution_count": null,
   "outputs": [],
   "source": [
    "fig, ax = plt.subplots(figsize=(10,10))\n",
    "sns.heatmap(data=corr_matrix, annot=True, square = True, fmt='.2f', xticklabels=columns, yticklabels=columns)\n",
    "# https://corporatefinanceinstitute.com/resources/excel/correlation-matrix/#:~:text=A%20correlation%20matrix%20is%20simply,patterns%20in%20the%20given%20data.\n",
    "# Quadratic and symmetric matrix, which represents value of correlation coefficient.\n",
    "# Takes values between <-1; 1>.\n",
    "# Correlation matrix gives us details about how much 2 attributes are correlated with each other.\n",
    "# Negative correlation: if one value rises and second peaks down.\n",
    "# Positive correlation: if both rises.\n",
    "# 1.00 <- maximal positive correlation between two attributes\n",
    "# -1.00 <- maximal negative correlation between two attributes\n",
    "# 0.00 <- the correlation doesnt occure"
   ],
   "metadata": {
    "collapsed": false,
    "pycharm": {
     "name": "#%%\n"
    }
   }
  },
  {
   "cell_type": "code",
   "execution_count": null,
   "outputs": [],
   "source": [
    "sns.pairplot(df[columns])\n",
    "# https://www.geeksforgeeks.org/python-seaborn-pairplot-method/\n",
    "# Pairplot gives us collation similar to Correlation matrix. But in this case instead of numbers we get subplots that describes correlation between datasets."
   ],
   "metadata": {
    "collapsed": false,
    "pycharm": {
     "name": "#%%\n"
    }
   }
  },
  {
   "cell_type": "code",
   "execution_count": null,
   "outputs": [],
   "source": [
    "columns = ['LSTAT', 'RM', 'PTRATIO', 'INDUS','TAX','NOX','MEDV']\n",
    "fig, ax = plt.subplots(figsize=(12, 12))\n",
    "sns.pairplot(df[columns])\n",
    "# ??? weird"
   ],
   "metadata": {
    "collapsed": false,
    "pycharm": {
     "name": "#%%\n"
    }
   }
  },
  {
   "cell_type": "code",
   "execution_count": null,
   "outputs": [],
   "source": [
    "print(\"pairplot finished\")"
   ],
   "metadata": {
    "collapsed": false,
    "pycharm": {
     "name": "#%%\n"
    }
   }
  }
 ],
 "metadata": {
  "kernelspec": {
   "display_name": "Python 3",
   "language": "python",
   "name": "python3"
  },
  "language_info": {
   "codemirror_mode": {
    "name": "ipython",
    "version": 2
   },
   "file_extension": ".py",
   "mimetype": "text/x-python",
   "name": "python",
   "nbconvert_exporter": "python",
   "pygments_lexer": "ipython2",
   "version": "2.7.6"
  }
 },
 "nbformat": 4,
 "nbformat_minor": 0
}
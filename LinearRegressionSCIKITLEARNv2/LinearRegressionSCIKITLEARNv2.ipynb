{
 "cells": [
  {
   "cell_type": "code",
   "execution_count": null,
   "metadata": {
    "collapsed": true,
    "pycharm": {
     "name": "#%%\n"
    }
   },
   "outputs": [],
   "source": [
    "import pandas as pd, seaborn as sn, matplotlib as mtpl\n",
    "from sklearn.model_selection import train_test_split\n",
    "from sklearn.linear_model import LinearRegression\n",
    "from sklearn.pipeline import make_pipeline\n",
    "from sklearn.preprocessing import StandardScaler"
   ]
  },
  {
   "cell_type": "code",
   "execution_count": null,
   "outputs": [],
   "source": [
    "df = pd.read_csv(r\"housing.data\",sep=\" +\", engine=\"python\", header=None,names=[\"CRIM\",\"ZN\",\"INDUS\",\"CHAS\",\"NOX\",\"RM\",\"AGE\",\"DIS\",\"RAD\",\"TAX\",\"PTRATIO\",\"B\",\"LSTAT\",\"MEDV\"]) # engine=\"python\"\n",
    "df.head()"
   ],
   "metadata": {
    "collapsed": false,
    "pycharm": {
     "name": "#%%\n"
    }
   }
  },
  {
   "cell_type": "code",
   "execution_count": null,
   "outputs": [],
   "source": [
    "X = df.loc[:, \"CRIM\":\"LSTAT\":1]\n",
    "X"
   ],
   "metadata": {
    "collapsed": false,
    "pycharm": {
     "name": "#%%\n"
    }
   }
  },
  {
   "cell_type": "code",
   "execution_count": null,
   "outputs": [],
   "source": [
    "y = df[\"MEDV\"]\n",
    "y"
   ],
   "metadata": {
    "collapsed": false,
    "pycharm": {
     "name": "#%%\n"
    }
   }
  },
  {
   "cell_type": "code",
   "execution_count": null,
   "outputs": [],
   "source": [
    "X_train, X_test, y_train, y_test = train_test_split(X, y, test_size=0.15)"
   ],
   "metadata": {
    "collapsed": false,
    "pycharm": {
     "name": "#%%\n"
    }
   }
  },
  {
   "cell_type": "code",
   "execution_count": null,
   "outputs": [],
   "source": [
    "X1_train = X_train\n",
    "X1_test = X_test\n",
    "X2_train = X_train.loc[:, [\"INDUS\",\"NOX\", \"RM\", \"TAX\", \"PTRATIO\",\"LSTAT\"]]\n",
    "X2_test  = X_test.loc[:, [\"INDUS\",\"NOX\", \"RM\", \"TAX\", \"PTRATIO\",\"LSTAT\"]]"
   ],
   "metadata": {
    "collapsed": false,
    "pycharm": {
     "name": "#%%\n"
    }
   }
  },
  {
   "cell_type": "markdown",
   "source": [
    "Soon deprecated normalize argument in LinearRegression() method:\n",
    "FutureWarning: 'normalize' was deprecated in version 1.0 and will be   in 1.2. If you wish to scalethe data, use Pipeline with a StandardScaler in a preprocessing stage. To reproduce the previous behavior:\n",
    "from sklearn.pipeline import make_pipeline\n",
    "model = make_pipeline(StandardScaler(with_mean=False), LinearRegression())"
   ],
   "metadata": {
    "collapsed": false,
    "pycharm": {
     "name": "#%% md\n"
    }
   }
  },
  {
   "cell_type": "code",
   "execution_count": null,
   "outputs": [],
   "source": [
    "# linRegI = LinearRegression(fit_intercept=True, normalize=True, copy_X=True)\n",
    "linRegI = make_pipeline(StandardScaler(), LinearRegression(fit_intercept=True, copy_X=True))\n",
    "linRegI.fit(X1_train, y_train)\n",
    "score_all_columns = linRegI.score(X1_test, y_test) * 100"
   ],
   "metadata": {
    "collapsed": false,
    "pycharm": {
     "name": "#%%\n"
    }
   }
  },
  {
   "cell_type": "code",
   "execution_count": null,
   "outputs": [],
   "source": [
    "# linRegII = LinearRegression(fit_intercept=True, normalize=True, copy_X=True)\n",
    "linRegII = make_pipeline(StandardScaler(), LinearRegression(fit_intercept=True, copy_X=True))\n",
    "linRegII.fit(X2_train, y_train)\n",
    "score_selected_columns = linRegII.score(X2_test, y_test) * 100"
   ],
   "metadata": {
    "collapsed": false,
    "pycharm": {
     "name": "#%%\n"
    }
   }
  },
  {
   "cell_type": "code",
   "execution_count": null,
   "outputs": [],
   "source": [
    "print(\"Linear Regression for all columns = %s proc\" % score_all_columns)\n",
    "print(f\"Linear Regression for selected columns  = {score_selected_columns} proc\")"
   ],
   "metadata": {
    "collapsed": false,
    "pycharm": {
     "name": "#%%\n"
    }
   }
  }
 ],
 "metadata": {
  "kernelspec": {
   "display_name": "Python 3",
   "language": "python",
   "name": "python3"
  },
  "language_info": {
   "codemirror_mode": {
    "name": "ipython",
    "version": 2
   },
   "file_extension": ".py",
   "mimetype": "text/x-python",
   "name": "python",
   "nbconvert_exporter": "python",
   "pygments_lexer": "ipython2",
   "version": "2.7.6"
  }
 },
 "nbformat": 4,
 "nbformat_minor": 0
}
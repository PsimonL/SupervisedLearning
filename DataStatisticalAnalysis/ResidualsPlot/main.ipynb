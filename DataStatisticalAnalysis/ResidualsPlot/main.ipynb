{
 "cells": [
  {
   "cell_type": "markdown",
   "source": [
    "A RESIDUAL is a vertical distance between a data point adn the regression line, each data point has one residual.\n",
    "On the other hand RESIDUAL PLOT shows residuals on the vertical axis and the independent variable on the horizontal axis. If data samples of that plots are randomly spaced around x=0, it gives us info that lin reg model is a good choice, if not, try non-linear."
   ],
   "metadata": {
    "collapsed": false,
    "pycharm": {
     "name": "#%% md\n"
    }
   }
  },
  {
   "cell_type": "code",
   "execution_count": null,
   "metadata": {
    "collapsed": true,
    "pycharm": {
     "name": "#%%\n"
    }
   },
   "outputs": [],
   "source": [
    "import numpy as np, pandas as pd\n",
    "import matplotlib.pyplot as plt\n",
    "from sklearn.linear_model import LinearRegression\n",
    "from sklearn.model_selection import train_test_split\n",
    "from sklearn.preprocessing   import StandardScaler\n",
    "\n",
    "df = pd.read_csv(r\"housing.data\", sep=\" +\", engine=\"python\", header=None, names=[\"CRIM\",\"ZN\",\"INDUS\",\"CHAS\",\"NOX\",\"RM\",\"AGE\",\"DIS\",\"RAD\",\"TAX\",\"PTRATIO\",\"B\",\"LSTAT\",\"MEDV\"])\n",
    "\n",
    "selected_data = df.loc[:, [\"LSTAT\",\"MEDV\"]]"
   ]
  },
  {
   "cell_type": "code",
   "execution_count": null,
   "outputs": [],
   "source": [
    "Q1 = selected_data.quantile(0.25)\n",
    "Q3 = selected_data.quantile(0.75)\n",
    "IQR = Q3 - Q1\n",
    "print(Q1)\n",
    "print()\n",
    "print(Q3)\n",
    "print()\n",
    "print(IQR)"
   ],
   "metadata": {
    "collapsed": false,
    "pycharm": {
     "name": "#%%\n"
    }
   }
  },
  {
   "cell_type": "code",
   "execution_count": null,
   "outputs": [],
   "source": [
    "# https://www.geeksforgeeks.org/python-bitwise-operators/\n",
    "outlier_condition = ((selected_data < (Q1 - 1.5 * IQR)) | (selected_data > (Q3 +1.5 * IQR)))\n",
    "data = selected_data[~outlier_condition.any(axis=1)]\n",
    "data"
   ],
   "metadata": {
    "collapsed": false,
    "pycharm": {
     "name": "#%%\n"
    }
   }
  },
  {
   "cell_type": "code",
   "execution_count": null,
   "outputs": [],
   "source": [
    "X = data[\"LSTAT\"].values.reshape(-1,1)\n",
    "y = data[\"MEDV\"].values.reshape(-1,1)"
   ],
   "metadata": {
    "collapsed": false,
    "pycharm": {
     "name": "#%%\n"
    }
   }
  },
  {
   "cell_type": "code",
   "execution_count": null,
   "outputs": [],
   "source": [
    "X"
   ],
   "metadata": {
    "collapsed": false,
    "pycharm": {
     "name": "#%%\n"
    }
   }
  },
  {
   "cell_type": "code",
   "execution_count": null,
   "outputs": [],
   "source": [
    "y"
   ],
   "metadata": {
    "collapsed": false,
    "pycharm": {
     "name": "#%%\n"
    }
   }
  },
  {
   "cell_type": "code",
   "execution_count": null,
   "outputs": [],
   "source": [
    "plt.figure(figsize=(10,5))\n",
    "plt.scatter(X, y)"
   ],
   "metadata": {
    "collapsed": false,
    "pycharm": {
     "name": "#%%\n"
    }
   }
  },
  {
   "cell_type": "code",
   "execution_count": null,
   "outputs": [],
   "source": [
    "X_train, X_test, y_train, y_test = train_test_split(X, y, test_size=0.2)\n",
    "\n",
    "\n",
    "# scaler = StandardScaler()\n",
    "# scaler.fit(X)\n",
    "# X = scaler.transform(X)\n",
    "#\n",
    "# scaler = StandardScaler()\n",
    "# scaler.fit(y)\n",
    "# y = scaler.transform(y)\n",
    "#\n",
    "#\n",
    "# lin_reg = LinearRegression()\n",
    "# lin_reg.fit(X_train, y_train)\n",
    "# lin_reg.score(X_train, y_train)\n",
    "\n",
    "# Equivalent to: ... ???\n",
    "\n",
    "from sklearn.pipeline import make_pipeline\n",
    "from sklearn.preprocessing import StandardScaler\n",
    "lin_reg = make_pipeline(StandardScaler(), LinearRegression())\n",
    "lin_reg.fit(X_train, y_train)\n",
    "lin_reg.score(X_train, y_train)"
   ],
   "metadata": {
    "collapsed": false,
    "pycharm": {
     "name": "#%%\n"
    }
   }
  },
  {
   "cell_type": "code",
   "execution_count": null,
   "outputs": [],
   "source": [
    "y_pred_test = lin_reg.predict(X_test)\n",
    "y_pred_test"
   ],
   "metadata": {
    "collapsed": false,
    "pycharm": {
     "name": "#%%\n"
    }
   }
  },
  {
   "cell_type": "code",
   "execution_count": null,
   "outputs": [],
   "source": [
    "y_pred_train = lin_reg.predict(X_train)\n",
    "y_pred_train"
   ],
   "metadata": {
    "collapsed": false,
    "pycharm": {
     "name": "#%%\n"
    }
   }
  },
  {
   "cell_type": "code",
   "execution_count": null,
   "outputs": [],
   "source": [
    "X_train"
   ],
   "metadata": {
    "collapsed": false,
    "pycharm": {
     "name": "#%%\n"
    }
   }
  },
  {
   "cell_type": "code",
   "execution_count": null,
   "outputs": [],
   "source": [
    "# fig, ax = plt.subplots(2, 2, figsize=(8, 8))\n",
    "# ax[0,0].scatter(X_train, y_train, color = \"gold\")\n",
    "# ax[0,0].plot(X_train, y_pred_train, color = \"blue\")\n",
    "\n",
    "plt.figure(figsize=(10,5))\n",
    "plt.scatter(X_train, y_train, color=\"black\")\n",
    "plt.plot(X_train, lin_reg.predict(X_train), color=\"red\")"
   ],
   "metadata": {
    "collapsed": false,
    "pycharm": {
     "name": "#%%\n"
    }
   }
  },
  {
   "cell_type": "code",
   "execution_count": null,
   "outputs": [],
   "source": [
    "plt.figure(figsize=(10,5))\n",
    "plt.scatter(X_train, y_train, color=\"black\")\n",
    "plt.plot(X_train, lin_reg.predict(X_train), color=\"yellow\")"
   ],
   "metadata": {
    "collapsed": false,
    "pycharm": {
     "name": "#%%\n"
    }
   }
  },
  {
   "cell_type": "code",
   "execution_count": null,
   "outputs": [],
   "source": [
    "plt.scatter(y_train, y_pred_train - y_train, s=80, facecolors=\"none\", edgecolors=\"blue\")\n",
    "plt.axhline(0, color=\"black\")\n",
    "# axvline()"
   ],
   "metadata": {
    "collapsed": false,
    "pycharm": {
     "name": "#%%\n"
    }
   }
  },
  {
   "cell_type": "code",
   "execution_count": null,
   "outputs": [],
   "source": [
    "plt.scatter(y_test, y_pred_test - y_test, s=80, facecolors=\"none\", edgecolors=\"red\")\n",
    "plt.axhline(0, color=\"black\")\n",
    "# axvline()"
   ],
   "metadata": {
    "collapsed": false,
    "pycharm": {
     "name": "#%%\n"
    }
   }
  },
  {
   "cell_type": "code",
   "execution_count": null,
   "outputs": [],
   "source": [
    "fig, axs = plt.subplots(2)\n",
    "fig.suptitle(\"Plots Comparison\")\n",
    "axs[0].scatter(y_train, y_pred_train - y_train, s=80, facecolors=\"none\", edgecolors=\"blue\")\n",
    "axs[0].axhline(0, color=\"black\")\n",
    "axs[1].scatter(y_test, y_pred_test - y_test, s=80, facecolors=\"none\", edgecolors=\"red\")\n",
    "axs[1].axhline(0, color=\"black\")"
   ],
   "metadata": {
    "collapsed": false,
    "pycharm": {
     "name": "#%%\n"
    }
   }
  }
 ],
 "metadata": {
  "kernelspec": {
   "display_name": "Python 3",
   "language": "python",
   "name": "python3"
  },
  "language_info": {
   "codemirror_mode": {
    "name": "ipython",
    "version": 2
   },
   "file_extension": ".py",
   "mimetype": "text/x-python",
   "name": "python",
   "nbconvert_exporter": "python",
   "pygments_lexer": "ipython2",
   "version": "2.7.6"
  }
 },
 "nbformat": 4,
 "nbformat_minor": 0
}
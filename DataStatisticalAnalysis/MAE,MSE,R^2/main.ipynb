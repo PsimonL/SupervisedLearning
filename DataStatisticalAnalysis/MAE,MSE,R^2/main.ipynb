{
 "cells": [
  {
   "cell_type": "markdown",
   "source": [
    "# MAE\n",
    "https://en.wikipedia.org/wiki/Mean_absolute_error\n",
    "\n",
    "# MSE\n",
    "https://en.wikipedia.org/wiki/Mean_squared_error\n",
    "\n",
    "# R2\n",
    "https://condor.depaul.edu/sjost/it223/documents/correlation.htm#:~:text=The%20R%2Dsquared%20value%2C%20denoted,Perfect%20positive%20linear%20association.\n",
    "https://en.wikipedia.org/wiki/Coefficient_of_determination"
   ],
   "metadata": {
    "collapsed": false,
    "pycharm": {
     "name": "#%% md\n"
    }
   }
  },
  {
   "cell_type": "code",
   "execution_count": null,
   "metadata": {
    "collapsed": true,
    "pycharm": {
     "name": "#%%\n"
    }
   },
   "outputs": [],
   "source": [
    "import numpy as np, pandas as pd\n",
    "import matplotlib.pyplot as plt\n",
    "from sklearn.linear_model import LinearRegression\n",
    "from sklearn.model_selection import train_test_split\n",
    "from sklearn.preprocessing import StandardScaler\n",
    "from sklearn.metrics import mean_absolute_error\n",
    "from sklearn.metrics import mean_squared_error\n",
    "from sklearn.metrics import r2_score"
   ]
  },
  {
   "cell_type": "code",
   "execution_count": null,
   "outputs": [],
   "source": [
    "df = pd.read_csv(r\"housing.data\", sep=\" +\", engine=\"python\", header=None, names=[\"CRIM\",\"ZN\",\"INDUS\",\"CHAS\",\"NOX\",\"RM\",\"AGE\",\"DIS\",\"RAD\",\"TAX\",\"PTRATIO\",\"B\",\"LSTAT\",\"MEDV\"])\n",
    "df"
   ],
   "metadata": {
    "collapsed": false,
    "pycharm": {
     "name": "#%%\n"
    }
   }
  },
  {
   "cell_type": "code",
   "execution_count": null,
   "outputs": [],
   "source": [
    "df = df.loc[:, [\"LSTAT\",\"MEDV\"]]"
   ],
   "metadata": {
    "collapsed": false,
    "pycharm": {
     "name": "#%%\n"
    }
   }
  },
  {
   "cell_type": "markdown",
   "source": [
    "IQR METHOD"
   ],
   "metadata": {
    "collapsed": false,
    "pycharm": {
     "name": "#%% md\n"
    }
   }
  },
  {
   "cell_type": "code",
   "execution_count": null,
   "outputs": [],
   "source": [
    "# IQR method\n",
    "Q1 = df.quantile(0.25)\n",
    "Q3 = df.quantile(0.75)\n",
    "IQR = Q3 - Q1"
   ],
   "metadata": {
    "collapsed": false,
    "pycharm": {
     "name": "#%%\n"
    }
   }
  },
  {
   "cell_type": "markdown",
   "source": [
    "Removing outliers"
   ],
   "metadata": {
    "collapsed": false,
    "pycharm": {
     "name": "#%% md\n"
    }
   }
  },
  {
   "cell_type": "code",
   "execution_count": null,
   "outputs": [],
   "source": [
    "outlier_condition = ((df < (Q1 - 1.5 * IQR)) | (df > (Q3 + 1.5 * IQR)))\n",
    "df = df[~outlier_condition.any(axis=1)]"
   ],
   "metadata": {
    "collapsed": false,
    "pycharm": {
     "name": "#%%\n"
    }
   }
  },
  {
   "cell_type": "code",
   "execution_count": null,
   "outputs": [],
   "source": [
    "X = df[\"LSTAT\"].values.reshape(-1,1)\n",
    "y = df[\"MEDV\"].values.reshape(-1,1)"
   ],
   "metadata": {
    "collapsed": false,
    "pycharm": {
     "name": "#%%\n"
    }
   }
  },
  {
   "cell_type": "code",
   "execution_count": null,
   "outputs": [],
   "source": [
    "plt.figure(figsize=(10,5))\n",
    "plt.scatter(X, y, color=\"black\")"
   ],
   "metadata": {
    "collapsed": false,
    "pycharm": {
     "name": "#%%\n"
    }
   }
  },
  {
   "cell_type": "markdown",
   "source": [
    "Commented code is only equivalent for R^2. Not for MAE and MSE.\n",
    "\n",
    "Data standardization; StandardScaler(), transform()\n",
    "https://scikit-learn.org/stable/modules/generated/sklearn.preprocessing.StandardScaler.html"
   ],
   "metadata": {
    "collapsed": false,
    "pycharm": {
     "name": "#%% md\n"
    }
   }
  },
  {
   "cell_type": "code",
   "execution_count": null,
   "outputs": [],
   "source": [
    "# X_train, X_test, y_train, y_test = train_test_split(X, y, test_size=0.15)\n",
    "\n",
    "# from sklearn.pipeline import make_pipeline\n",
    "# from sklearn.preprocessing import StandardScaler\n",
    "#\n",
    "# lin_reg = make_pipeline(StandardScaler(), LinearRegression())\n",
    "# lin_reg.fit(X_train, y_train)\n",
    "# lin_reg.score(X_train, y_train)\n",
    "\n",
    "\n",
    "scaler = StandardScaler()\n",
    "scaler.fit(X)\n",
    "X = scaler.transform(X)\n",
    "\n",
    "scaler = StandardScaler()\n",
    "scaler.fit(y)\n",
    "y = scaler.transform(y)\n",
    "\n",
    "X_train, X_test, y_train, y_test = train_test_split(X, y, test_size=0.3)\n",
    "\n",
    "lin_reg = LinearRegression()\n",
    "lin_reg.fit(X_train, y_train)\n",
    "lin_reg.score(X_train, y_train)"
   ],
   "metadata": {
    "collapsed": false,
    "pycharm": {
     "name": "#%%\n"
    }
   }
  },
  {
   "cell_type": "code",
   "execution_count": null,
   "outputs": [],
   "source": [
    "plt.figure(figsize=(10,5))\n",
    "plt.scatter(X_train, y_train, color=\"black\")\n",
    "plt.plot(X_train, lin_reg.predict(X_train), color=\"red\")"
   ],
   "metadata": {
    "collapsed": false,
    "pycharm": {
     "name": "#%%\n"
    }
   }
  },
  {
   "cell_type": "markdown",
   "source": [],
   "metadata": {
    "collapsed": false,
    "pycharm": {
     "name": "#%% md\n"
    }
   }
  },
  {
   "cell_type": "code",
   "execution_count": null,
   "outputs": [],
   "source": [
    "# MAE\n",
    "mae_train = mean_absolute_error(y_train, lin_reg.predict(X_train))\n",
    "mae_test = mean_absolute_error(y_test, lin_reg.predict(X_test))\n",
    "print(f\"MAE: trainVal = {round(mae_train, 2)}, testVal = {round(mae_test, 2)}\")\n",
    "\n",
    "# MSE\n",
    "mse_train = mean_squared_error(y_train, lin_reg.predict(X_train))\n",
    "mse_test = mean_squared_error(y_test, lin_reg.predict(X_test))\n",
    "print(f\"MSE: trainVal = {round(mse_train, 2)}, testVal = {round(mse_test, 2)}\")\n",
    "\n",
    "# R2\n",
    "# https://condor.depaul.edu/sjost/it223/documents/correlation.htm#:~:text=The%20R%2Dsquared%20value%2C%20denoted,Perfect%20positive%20linear%20association.\n",
    "# https://en.wikipedia.org/wiki/Coefficient_of_determination\n",
    "r2_train = r2_score(y_train, lin_reg.predict(X_train))\n",
    "r2_test = r2_score(y_test, lin_reg.predict(X_test))\n",
    "print(f\"R^2:  trainVal = {round(r2_train, 2)}, testVal = {round(r2_test, 2)}\")"
   ],
   "metadata": {
    "collapsed": false,
    "pycharm": {
     "name": "#%%\n"
    }
   }
  },
  {
   "cell_type": "markdown",
   "source": [],
   "metadata": {
    "collapsed": false,
    "pycharm": {
     "name": "#%% md\n"
    }
   }
  },
  {
   "cell_type": "markdown",
   "source": [
    "No data scalling and removing outliers, beyond that same process."
   ],
   "metadata": {
    "collapsed": false,
    "pycharm": {
     "name": "#%% md\n"
    }
   }
  },
  {
   "cell_type": "code",
   "execution_count": null,
   "outputs": [],
   "source": [
    "print(\"2nd Version\")"
   ],
   "metadata": {
    "collapsed": false,
    "pycharm": {
     "name": "#%%\n"
    }
   }
  },
  {
   "cell_type": "code",
   "execution_count": null,
   "outputs": [],
   "source": [
    "df1 = pd.read_csv(r\"housing1.data\", sep=\" +\", engine=\"python\", header=None, names=[\"CRIM\", \"ZN\", \"INDUS\", \"CHAS\", \"NOX\", \"RM\", \"AGE\", \"DIS\", \"RAD\", \"TAX\", \"PTRATIO\", \"B\", \"LSTAT\", \"MEDV\"])\n",
    "df1 = df1.loc[:, [\"LSTAT\", \"MEDV\"]]\n",
    "X1 = df1[\"LSTAT\"].values.reshape(-1, 1)\n",
    "y1 = df1[\"MEDV\"].values.reshape(-1, 1)\n",
    "plt.figure(figsize=(10, 5))\n",
    "plt.scatter(X1, y1, color=\"black\")"
   ],
   "metadata": {
    "collapsed": false,
    "pycharm": {
     "name": "#%%\n"
    }
   }
  },
  {
   "cell_type": "code",
   "execution_count": null,
   "outputs": [],
   "source": [
    "X_train1, X_test1, y_train1, y_test1 = train_test_split(X1, y1, test_size=0.15)\n",
    "\n",
    "lin_reg1 = LinearRegression()\n",
    "lin_reg1.fit(X_train1, y_train1)\n",
    "lin_reg1.score(X_train1, y_train1)"
   ],
   "metadata": {
    "collapsed": false,
    "pycharm": {
     "name": "#%%\n"
    }
   }
  },
  {
   "cell_type": "code",
   "execution_count": null,
   "outputs": [],
   "source": [
    "plt.figure(figsize=(10, 5))\n",
    "plt.scatter(X_train1, y_train1, color=\"black\")\n",
    "plt.plot(X_train1, lin_reg1.predict(X_train1), color=\"red\")"
   ],
   "metadata": {
    "collapsed": false,
    "pycharm": {
     "name": "#%%\n"
    }
   }
  },
  {
   "cell_type": "markdown",
   "source": [],
   "metadata": {
    "collapsed": false,
    "pycharm": {
     "name": "#%% md\n"
    }
   }
  },
  {
   "cell_type": "markdown",
   "source": [
    "We got, as expected, much worse values for MAE and MSE, R2 still pretty good scores. R2 is always standarized, earlier we got similar values cause we did hand made standarization to MAE and MSE. R2 method has this procedure built in library."
   ],
   "metadata": {
    "collapsed": false,
    "pycharm": {
     "name": "#%% md\n"
    }
   }
  },
  {
   "cell_type": "markdown",
   "source": [
    "R2 on test data could go above 100%"
   ],
   "metadata": {
    "collapsed": false,
    "pycharm": {
     "name": "#%% md\n"
    }
   }
  },
  {
   "cell_type": "code",
   "execution_count": null,
   "outputs": [],
   "source": [
    "# # MAE\n",
    "mae_train1 = mean_absolute_error(y_train1, lin_reg1.predict(X_train1))\n",
    "mae_test1 = mean_absolute_error(y_test1, lin_reg1.predict(X_test1))\n",
    "print(f\"MAE: trainVal1 = {round(mae_train1, 2)}, testVal1 = {round(mae_test1, 2)}\")\n",
    "\n",
    "# # MSE\n",
    "mse_train1 = mean_squared_error(y_train1, lin_reg1.predict(X_train1))\n",
    "mse_test1 = mean_squared_error(y_test1, lin_reg1.predict(X_test1))\n",
    "print(f\"MSE: trainVal1 = {round(mse_train1, 2)}, testVal1 = {round(mse_test1, 2)}\")\n",
    "\n",
    "# # R2\n",
    "r2_train1 = r2_score(y_train1, lin_reg1.predict(X_train1))\n",
    "r2_test1 = r2_score(y_test1, lin_reg1.predict(X_test1))\n",
    "print(f\"R^2:  trainVal1 = {round(r2_train1, 2)}, testVal1 = {round(r2_test1, 2)}\")"
   ],
   "metadata": {
    "collapsed": false,
    "pycharm": {
     "name": "#%%\n"
    }
   }
  },
  {
   "cell_type": "code",
   "execution_count": null,
   "outputs": [],
   "source": [],
   "metadata": {
    "collapsed": false,
    "pycharm": {
     "name": "#%%\n"
    }
   }
  }
 ],
 "metadata": {
  "kernelspec": {
   "display_name": "Python 3",
   "language": "python",
   "name": "python3"
  },
  "language_info": {
   "codemirror_mode": {
    "name": "ipython",
    "version": 2
   },
   "file_extension": ".py",
   "mimetype": "text/x-python",
   "name": "python",
   "nbconvert_exporter": "python",
   "pygments_lexer": "ipython2",
   "version": "2.7.6"
  }
 },
 "nbformat": 4,
 "nbformat_minor": 0
}
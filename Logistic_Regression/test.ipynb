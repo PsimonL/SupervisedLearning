{
 "cells": [
  {
   "cell_type": "markdown",
   "source": [
    "Logistic Regression is part of Supervised Learning algorithms, family of classifications:\n",
    "\n",
    "Classification VS Clustering\n",
    "Classification is the process of predicting a label for a given input data sample. For example, given a set of images of animals, a classification algorithm might predict whether a given image contains a cat or a dog.\n",
    "Clustering, on the other hand, is the process of grouping data samples into clusters based on their similarity. For example, given a set of customer data, a clustering algorithm might group the customers into clusters based on their purchasing habits.\n",
    "In summary, classification is used to predict labels for individual data samples, while clustering is used to group similar data samples together."
   ],
   "metadata": {
    "collapsed": false,
    "pycharm": {
     "name": "#%% md\n"
    }
   }
  },
  {
   "cell_type": "markdown",
   "source": [
    "Sources:\n",
    "http://www.kt.agh.edu.pl/~kulakowski/ml/03_Logistic_bias_variance.pdfhttps://www.simplilearn.com/tutorials/machine-learning-tutorial/logistic-regression-in-python\n",
    "https://www.datacamp.com/tutorial/understanding-logistic-regression-python\n",
    "https://realpython.com/logistic-regression-python/\n",
    "https://aws.amazon.com/what-is/logistic-regression/#:~:text=Logistic%20regression%20is%20a%20data,outcomes%2C%20like%20yes%20or%20no."
   ],
   "metadata": {
    "collapsed": false,
    "pycharm": {
     "name": "#%% md\n"
    }
   }
  },
  {
   "cell_type": "code",
   "execution_count": null,
   "metadata": {
    "collapsed": true,
    "pycharm": {
     "name": "#%%\n"
    }
   },
   "outputs": [],
   "source": [
    "import matplotlib.pyplot as plt\n",
    "import numpy as np\n",
    "from sklearn.metrics import classification_report, confusion_matrix\n",
    "from sklearn.model_selection import train_test_split\n",
    "from sklearn.linear_model import LogisticRegression\n",
    "from sklearn.pipeline import make_pipeline\n",
    "from sklearn.preprocessing import StandardScaler\n",
    "import seaborn as sns\n",
    "from sklearn import metrics\n",
    "\n",
    "print(\"Libs Loaded\")"
   ]
  },
  {
   "cell_type": "markdown",
   "source": [
    "https://scikit-learn.org/stable/modules/generated/sklearn.datasets.load_digits.html\n",
    "Each datapoint is a 8x8 image of a digit."
   ],
   "metadata": {
    "collapsed": false,
    "pycharm": {
     "name": "#%% md\n"
    }
   }
  },
  {
   "cell_type": "markdown",
   "source": [
    "https://scikit-learn.org/stable/auto_examples/classification/plot_digits_classification.html"
   ],
   "metadata": {
    "collapsed": false,
    "pycharm": {
     "name": "#%% md\n"
    }
   }
  },
  {
   "cell_type": "code",
   "execution_count": null,
   "outputs": [],
   "source": [
    "from sklearn.datasets import load_digits\n",
    "digits = load_digits()"
   ],
   "metadata": {
    "collapsed": false,
    "pycharm": {
     "name": "#%%\n"
    }
   }
  },
  {
   "cell_type": "code",
   "execution_count": null,
   "outputs": [],
   "source": [
    "print(digits.target)"
   ],
   "metadata": {
    "collapsed": false,
    "pycharm": {
     "name": "#%%\n"
    }
   }
  },
  {
   "cell_type": "code",
   "execution_count": null,
   "outputs": [],
   "source": [
    "print(\"Image Data Shape\" , digits.data.shape)\n",
    "print(\"Label Data Shape\", digits.target.shape)"
   ],
   "metadata": {
    "collapsed": false,
    "pycharm": {
     "name": "#%%\n"
    }
   }
  },
  {
   "cell_type": "code",
   "execution_count": null,
   "outputs": [],
   "source": [
    "X = digits.data\n",
    "y = digits.target"
   ],
   "metadata": {
    "collapsed": false,
    "pycharm": {
     "name": "#%%\n"
    }
   }
  },
  {
   "cell_type": "code",
   "execution_count": null,
   "outputs": [],
   "source": [
    "X"
   ],
   "metadata": {
    "collapsed": false,
    "pycharm": {
     "name": "#%%\n"
    }
   }
  },
  {
   "cell_type": "code",
   "execution_count": null,
   "outputs": [],
   "source": [
    "y"
   ],
   "metadata": {
    "collapsed": false,
    "pycharm": {
     "name": "#%%\n"
    }
   }
  },
  {
   "cell_type": "code",
   "execution_count": null,
   "outputs": [],
   "source": [
    "plt.figure(figsize=(20,10))\n",
    "# https://note.nkmk.me/en/python-for-enumerate-zip/\n",
    "for i, (image, label) in enumerate(zip(X[:10], y[:10])): # first 10 images than labels\n",
    "     plt.subplot(3, 6, i + 1)\n",
    "     plt.title(f'(Id, Num) = ({i}, {label})', fontsize=17)\n",
    "     plt.imshow(np.reshape(image, (8,8)), cmap=\"plasma\")"
   ],
   "metadata": {
    "collapsed": false,
    "pycharm": {
     "name": "#%%\n"
    }
   }
  },
  {
   "cell_type": "code",
   "execution_count": null,
   "outputs": [],
   "source": [
    "X_train, X_test, y_train, y_test = train_test_split(X, y, test_size=0.2, random_state=42)"
   ],
   "metadata": {
    "collapsed": false,
    "pycharm": {
     "name": "#%%\n"
    }
   }
  },
  {
   "cell_type": "code",
   "execution_count": null,
   "outputs": [],
   "source": [
    "print(X_test)"
   ],
   "metadata": {
    "collapsed": false,
    "pycharm": {
     "name": "#%%\n"
    }
   }
  },
  {
   "cell_type": "code",
   "execution_count": null,
   "outputs": [],
   "source": [
    "# logisticReg = LogisticRegression()\n",
    "# logisticReg.fit(X_train, y_train)"
   ],
   "metadata": {
    "collapsed": false,
    "pycharm": {
     "name": "#%%\n"
    }
   }
  },
  {
   "cell_type": "markdown",
   "source": [
    "Regularization is a technique used to prevent overfitting and improve the generalization ability of a model. It does this by adding a penalty term to the objective function (also called the cost function) that the model is trying to minimize. The regularization term is usually a function of the model parameters (also called weights) and it is added to the objective function to penalize large weights. This helps to reduce the complexity of the model and prevent overfitting.\n",
    "\n",
    "Standardization is a technique used to transform the values of a feature to a standard scale. It is often used when the features have different scales and units, as this can affect the performance of some machine learning algorithms. Standardization is usually done by subtracting the mean of the feature from each value and dividing by the standard deviation. This results in a standard normal distribution with a mean of 0 and a standard deviation of 1."
   ],
   "metadata": {
    "collapsed": false,
    "pycharm": {
     "name": "#%% md\n"
    }
   }
  },
  {
   "cell_type": "code",
   "execution_count": null,
   "outputs": [],
   "source": [
    "# https://www.digitalocean.com/community/tutorials/standardscaler-function-in-python\n",
    "logisticReg = make_pipeline(StandardScaler(), LogisticRegression(fit_intercept=True, penalty='l2'))\n",
    "logisticReg.fit(X_train, y_train)"
   ],
   "metadata": {
    "collapsed": false,
    "pycharm": {
     "name": "#%%\n"
    }
   }
  },
  {
   "cell_type": "code",
   "execution_count": null,
   "outputs": [],
   "source": [
    "predictions = logisticReg.predict(X_test) #[:10]\n",
    "\"OK\""
   ],
   "metadata": {
    "collapsed": false,
    "pycharm": {
     "name": "#%%\n"
    }
   }
  },
  {
   "cell_type": "markdown",
   "source": [
    "Evaluating performance"
   ],
   "metadata": {
    "collapsed": false,
    "pycharm": {
     "name": "#%% md\n"
    }
   }
  },
  {
   "cell_type": "code",
   "execution_count": null,
   "outputs": [],
   "source": [
    "score = logisticReg.score(X_test, y_test)\n",
    "score\n",
    "# 97%"
   ],
   "metadata": {
    "collapsed": false,
    "pycharm": {
     "name": "#%%\n"
    }
   }
  },
  {
   "cell_type": "code",
   "execution_count": null,
   "outputs": [],
   "source": [
    "print(\n",
    "    f\"Classification report for classifier {logisticReg}:\\n\"\n",
    "    f\"{metrics.classification_report(y_test, predictions)}\\n\"\n",
    ")"
   ],
   "metadata": {
    "collapsed": false,
    "pycharm": {
     "name": "#%%\n"
    }
   }
  },
  {
   "cell_type": "markdown",
   "source": [
    "A confusion matrix is a table that is used to evaluate the performance of a classification model. It is a summary of the model's prediction results on a set of test data for which the true values are known."
   ],
   "metadata": {
    "collapsed": false,
    "pycharm": {
     "name": "#%% md\n"
    }
   }
  },
  {
   "cell_type": "code",
   "execution_count": null,
   "outputs": [],
   "source": [
    "conf_mat = metrics.confusion_matrix(y_test, predictions)\n",
    "conf_mat"
   ],
   "metadata": {
    "collapsed": false,
    "pycharm": {
     "name": "#%%\n"
    }
   }
  },
  {
   "cell_type": "code",
   "execution_count": null,
   "outputs": [],
   "source": [
    "plt.figure(figsize=(10, 10))\n",
    "sns.heatmap(conf_mat, annot=True, square=True, linewidths=.8, cmap='inferno', cbar=False)\n",
    "plt.title(f'SCORE = {score}', size=30, loc='center')\n",
    "plt.ylabel('ACTUAL',size=15)\n",
    "plt.xlabel('PREDICTED', size=15)"
   ],
   "metadata": {
    "collapsed": false,
    "pycharm": {
     "name": "#%%\n"
    }
   }
  },
  {
   "cell_type": "code",
   "execution_count": null,
   "outputs": [],
   "source": [
    "wrong_indexes = []\n",
    "for _id, (predict, actual) in enumerate(zip(predictions, y_test)):\n",
    "     if predict != actual: wrong_indexes.append(_id)"
   ],
   "metadata": {
    "collapsed": false,
    "pycharm": {
     "name": "#%%\n"
    }
   }
  },
  {
   "cell_type": "code",
   "execution_count": null,
   "outputs": [],
   "source": [
    "wrong_indexes\n",
    "# [52, 71, 133, 149, 159, 222, 234, 239, 244, 339]"
   ],
   "metadata": {
    "collapsed": false,
    "pycharm": {
     "name": "#%%\n"
    }
   }
  },
  {
   "cell_type": "code",
   "execution_count": null,
   "outputs": [],
   "source": [
    "y_test"
   ],
   "metadata": {
    "collapsed": false,
    "pycharm": {
     "name": "#%%\n"
    }
   }
  },
  {
   "cell_type": "code",
   "execution_count": null,
   "outputs": [],
   "source": [
    "predictions"
   ],
   "metadata": {
    "collapsed": false,
    "pycharm": {
     "name": "#%%\n"
    }
   }
  },
  {
   "cell_type": "code",
   "execution_count": null,
   "outputs": [],
   "source": [
    "plt.figure(figsize=(20,10))\n",
    "for _id, wrong in enumerate(wrong_indexes[:10]):\n",
    "     plt.subplot(3, 6, _id + 1)\n",
    "     plt.title(f'(pred, actual) = ({predictions[wrong]}, {y_test[wrong]})', fontsize = 20)\n",
    "     plt.imshow(np.reshape(X_test[wrong], (8,8)), cmap='plasma')"
   ],
   "metadata": {
    "collapsed": false,
    "pycharm": {
     "name": "#%%\n"
    }
   }
  }
 ],
 "metadata": {
  "kernelspec": {
   "display_name": "Python 3",
   "language": "python",
   "name": "python3"
  },
  "language_info": {
   "codemirror_mode": {
    "name": "ipython",
    "version": 2
   },
   "file_extension": ".py",
   "mimetype": "text/x-python",
   "name": "python",
   "nbconvert_exporter": "python",
   "pygments_lexer": "ipython2",
   "version": "2.7.6"
  }
 },
 "nbformat": 4,
 "nbformat_minor": 0
}